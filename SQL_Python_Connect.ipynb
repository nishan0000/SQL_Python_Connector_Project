{
 "cells": [
  {
   "cell_type": "code",
   "execution_count": 64,
   "id": "6f56fd61",
   "metadata": {},
   "outputs": [
    {
     "name": "stdout",
     "output_type": "stream",
     "text": [
      "Requirement already satisfied: mysql-connector-python in c:\\users\\mdnis\\anaconda3\\lib\\site-packages (8.0.28)\n",
      "Requirement already satisfied: protobuf>=3.0.0 in c:\\users\\mdnis\\anaconda3\\lib\\site-packages (from mysql-connector-python) (3.20.0)\n"
     ]
    }
   ],
   "source": [
    "# Installing the mysql-connector-python library to connect python with SQL\n",
    "!pip install mysql-connector-python"
   ]
  },
  {
   "cell_type": "code",
   "execution_count": 1,
   "id": "9512a631",
   "metadata": {},
   "outputs": [],
   "source": [
    "# Importing the mysql.connector library to python with alias name connection\n",
    "import mysql.connector as connection"
   ]
  },
  {
   "cell_type": "code",
   "execution_count": 2,
   "id": "cb919e90",
   "metadata": {},
   "outputs": [],
   "source": [
    "# Checking if the connection is established\n",
    "try:\n",
    "    # Providing the localhost details to connect to local database\n",
    "    mydb = connection.connect(host='localhost',user='root',password='0007')\n",
    "    \n",
    "    # Creating a cursor to execute queries\n",
    "    cursor = mydb.cursor()\n",
    "\n",
    "# If not connected or pops some errors up, print the error\n",
    "except Exception as e:\n",
    "    mydb.close()\n",
    "    print(str(e))"
   ]
  },
  {
   "cell_type": "code",
   "execution_count": 3,
   "id": "dcc5d6ba",
   "metadata": {},
   "outputs": [
    {
     "name": "stdout",
     "output_type": "stream",
     "text": [
      "True\n"
     ]
    }
   ],
   "source": [
    "# Checking if the connection is perfectly done -- This gives an object where the connection is made\n",
    "print(mydb.is_connected())"
   ]
  },
  {
   "cell_type": "code",
   "execution_count": 4,
   "id": "c8e3d094",
   "metadata": {},
   "outputs": [
    {
     "name": "stdout",
     "output_type": "stream",
     "text": [
      "[('classicmodels',), ('information_schema',), ('market_data',), ('mysql',), ('performance_schema',), ('python_sql_conn_db',), ('sqllearn',)]\n"
     ]
    }
   ],
   "source": [
    "    # Creating a sample query to check if it works\n",
    "    query = 'SHOW DATABASES;'\n",
    "    \n",
    "    # Executing the query using cursor\n",
    "    (cursor.execute(query))\n",
    "    \n",
    "    # Fetch the details of all the databases inside mySQL\n",
    "    print(cursor.fetchall())"
   ]
  },
  {
   "cell_type": "code",
   "execution_count": 6,
   "id": "ce31e41e",
   "metadata": {},
   "outputs": [
    {
     "name": "stdout",
     "output_type": "stream",
     "text": [
      "[('classicmodels',), ('information_schema',), ('market_data',), ('mysql',), ('performance_schema',), ('python_sql_conn_db',), ('sqllearn',)]\n"
     ]
    }
   ],
   "source": [
    "# Creating a sample database\n",
    "cursor.execute(\"CREATE DATABASE Python_Sql_Conn_db\")\n",
    "\n",
    "# Validating if the database is created or not\n",
    "cursor.execute(\"SHOW DATABASES;\")\n",
    "\n",
    "\n",
    "print(cursor.fetchall())"
   ]
  },
  {
   "cell_type": "markdown",
   "id": "69fbc99e",
   "metadata": {},
   "source": [
    "We can see that now, our database is successfuly created using python-sql-connector"
   ]
  },
  {
   "cell_type": "code",
   "execution_count": 7,
   "id": "2911f871",
   "metadata": {},
   "outputs": [
    {
     "name": "stdout",
     "output_type": "stream",
     "text": [
      "----------------------------------------------------------------------------------------------------------------------------------\n",
      "----------------------------------------------------------------------------------------------------------------------------------\n"
     ]
    }
   ],
   "source": [
    "print('-'*130)\n",
    "print('-'*130)"
   ]
  },
  {
   "cell_type": "code",
   "execution_count": 8,
   "id": "77c950ed",
   "metadata": {},
   "outputs": [
    {
     "name": "stdout",
     "output_type": "stream",
     "text": [
      "[('classicmodels',), ('information_schema',), ('market_data',), ('mysql',), ('performance_schema',), ('python_sql_conn_db',), ('sqllearn',), ('students',)]\n"
     ]
    }
   ],
   "source": [
    "# Creating a database named Students\n",
    "cursor.execute(\"CREATE DATABASE Students\")\n",
    "\n",
    "# Validating if the students database is created or not\n",
    "cursor.execute(\"SHOW DATABASES;\")\n",
    "\n",
    "\n",
    "print(cursor.fetchall())"
   ]
  },
  {
   "cell_type": "code",
   "execution_count": 9,
   "id": "fb21af7a",
   "metadata": {},
   "outputs": [
    {
     "name": "stdout",
     "output_type": "stream",
     "text": [
      "The table Student_Details is created\n"
     ]
    }
   ],
   "source": [
    "# Selecting the Students database first\n",
    "cursor.execute(\"USE Students;\")\n",
    "\n",
    "# Creating  a table named 'Student_Details' inside the database Students\n",
    "cursor.execute(\"CREATE TABLE Student_Details(Student_id int(10),First_Name VARCHAR(60),LAST_Name VARCHAR(60),Register_Date DATE,Class VARCHAR(20),Section VARCHAR(10))\")\n",
    "print(\"The table Student_Details is created\")"
   ]
  },
  {
   "cell_type": "code",
   "execution_count": 10,
   "id": "652589b1",
   "metadata": {},
   "outputs": [
    {
     "name": "stdout",
     "output_type": "stream",
     "text": [
      "[('student_details',)]\n"
     ]
    }
   ],
   "source": [
    "# To check if the table is successfuly created inside the Student_Details Database\n",
    "cursor.execute(\"SHOW TABLES;\")\n",
    "\n",
    "print(cursor.fetchall())"
   ]
  },
  {
   "cell_type": "markdown",
   "id": "d97f1251",
   "metadata": {},
   "source": [
    "So, Our 'student_details' Table is successfuly created inside the students database "
   ]
  },
  {
   "cell_type": "code",
   "execution_count": 11,
   "id": "e45eb317",
   "metadata": {},
   "outputs": [],
   "source": [
    "# Inserting data into the Student_Details table\n",
    "cursor.execute(\"INSERT INTO Student_Details(Student_id, First_Name, LAST_Name, Register_Date, Class, Section) VALUES(110,'Rishabh','Panth','2022-04-21','Seventh','A'),(111,'MS','Dhoni','2022-04-20','Nineth','C')\")\n",
    "mydb.commit()"
   ]
  },
  {
   "cell_type": "code",
   "execution_count": 12,
   "id": "67274835",
   "metadata": {},
   "outputs": [],
   "source": [
    "# Connecting to the students database\n",
    "mydb = connection.connect(host='localhost',user='root',password='0007')\n",
    "\n",
    "# Validate if the data is inserted into the table \n",
    "cursor.execute(\"USE students\")\n",
    "\n",
    "# Selecting the entire data from the student_details2 table\n",
    "cursor.execute(\"SELECT * FROM Student_Details\")\n",
    "\n",
    "res = cursor.fetchall()"
   ]
  },
  {
   "cell_type": "code",
   "execution_count": 13,
   "id": "eee9c5a0",
   "metadata": {},
   "outputs": [
    {
     "name": "stdout",
     "output_type": "stream",
     "text": [
      "(110, 'Rishabh', 'Panth', datetime.date(2022, 4, 21), 'Seventh', 'A')\n",
      "(111, 'MS', 'Dhoni', datetime.date(2022, 4, 20), 'Nineth', 'C')\n"
     ]
    }
   ],
   "source": [
    "for i in res:\n",
    "    print(i)"
   ]
  },
  {
   "cell_type": "markdown",
   "id": "d7c5b301",
   "metadata": {},
   "source": [
    "Hence we can conclude that, our python-sql connectivity project turned out to be working perfectly"
   ]
  },
  {
   "cell_type": "code",
   "execution_count": null,
   "id": "d14e13a7",
   "metadata": {},
   "outputs": [],
   "source": []
  }
 ],
 "metadata": {
  "kernelspec": {
   "display_name": "Python 3 (ipykernel)",
   "language": "python",
   "name": "python3"
  },
  "language_info": {
   "codemirror_mode": {
    "name": "ipython",
    "version": 3
   },
   "file_extension": ".py",
   "mimetype": "text/x-python",
   "name": "python",
   "nbconvert_exporter": "python",
   "pygments_lexer": "ipython3",
   "version": "3.9.7"
  }
 },
 "nbformat": 4,
 "nbformat_minor": 5
}
